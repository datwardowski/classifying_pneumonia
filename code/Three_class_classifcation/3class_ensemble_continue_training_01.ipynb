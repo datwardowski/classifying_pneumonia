{
 "cells": [
  {
   "cell_type": "code",
   "execution_count": 17,
   "metadata": {},
   "outputs": [],
   "source": [
    "# Import Libraries\n",
    "import numpy as np\n",
    "import pandas as pd\n",
    "import matplotlib.pyplot as plt\n",
    "\n",
    "from sklearn import metrics\n",
    "from PIL import Image\n",
    "\n",
    "from tensorflow.python.keras.models import Sequential\n",
    "from tensorflow.python.keras.layers  import Input, Dense, Dropout, Flatten, Conv2D,MaxPooling2D, GlobalAveragePooling2D, BatchNormalization\n",
    "from tensorflow.python.keras import utils\n",
    "from tensorflow.python.keras.preprocessing.image import ImageDataGenerator, load_img, img_to_array\n",
    "from tensorflow.keras.optimizers import Adam\n",
    "from tensorflow.keras.callbacks import EarlyStopping, ReduceLROnPlateau\n",
    "\n",
    "from tensorflow.python.keras.layers import concatenate\n",
    "from tensorflow.python.keras.models import Model\n",
    "#from tensorflow.python.layers.merge import concatenate\n",
    "\n",
    "np.random.seed(42)\n",
    "\n",
    "%matplotlib inline"
   ]
  },
  {
   "cell_type": "code",
   "execution_count": 24,
   "metadata": {},
   "outputs": [],
   "source": [
    "# Directory paths\n",
    "train_dir = \"../input/chest_xray_3classes/chest_xray/train\"\n",
    "val_dir = \"../input/chest_xray_3classes/chest_xray/val\"\n",
    "test_dir = \"../input/chest_xray_3classes/chest_xray/test\"\n",
    "\n",
    "models = list()"
   ]
  },
  {
   "cell_type": "code",
   "execution_count": 25,
   "metadata": {},
   "outputs": [],
   "source": [
    "# resnet50\n",
    "import tensorflow\n",
    "from tensorflow.keras.applications.resnet50 import ResNet50\n",
    "\n",
    "model_res = Sequential()\n",
    "\n",
    "model_res.add(ResNet50(include_top = False,\n",
    "                   weights = \"imagenet\",\n",
    "                   input_shape=(150,150,3)))\n",
    "\n",
    "# Dropout\n",
    "model_res.add(Dropout(0.5))\n",
    "\n",
    "# Pooling layer\n",
    "model_res.add(GlobalAveragePooling2D())\n",
    "\n",
    "# Dense layer\n",
    "model_res.add(Dense(128, \n",
    "                activation = \"relu\"))\n",
    "\n",
    "# Batch Normalizer\n",
    "model_res.add(BatchNormalization())\n",
    "\n",
    "# Output layer\n",
    "model_res.add(Dense(3,\n",
    "                activation = \"softmax\"))\n",
    "\n",
    "#Load weights \n",
    "model_res.load_weights(\"../output/3classes_resnet50_model.h5\")\n",
    "\n",
    "for layer in model_res.layers:\n",
    "    # make not trainable\n",
    "    layer.trainable = False"
   ]
  },
  {
   "cell_type": "code",
   "execution_count": 26,
   "metadata": {},
   "outputs": [],
   "source": [
    "# InceptionV3\n",
    "from tensorflow.keras.applications.inception_v3 import InceptionV3\n",
    "\n",
    "model_in = Sequential()\n",
    "\n",
    "model_in.add(InceptionV3(include_top = False,\n",
    "                      weights = 'imagenet',\n",
    "                      input_shape=(150,150,3)))\n",
    "\n",
    "# Dropout\n",
    "model_in.add(Dropout(0.5))\n",
    "\n",
    "# Pooling layer\n",
    "model_in.add(GlobalAveragePooling2D())\n",
    "\n",
    "# Dense layer\n",
    "model_in.add(Dense(128, \n",
    "                activation = \"relu\"))\n",
    "\n",
    "# Batch Normalizer\n",
    "model_in.add(BatchNormalization())\n",
    "\n",
    "# Output layer\n",
    "model_in.add(Dense(3,\n",
    "                activation = \"softmax\"))\n",
    "\n",
    "#Load weights \n",
    "model_in.load_weights(\"../output/3classes_inception_model.h5\")\n",
    "\n",
    "for layer in model_in.layers:\n",
    "    # make not trainable\n",
    "    layer.trainable = False"
   ]
  },
  {
   "cell_type": "code",
   "execution_count": 27,
   "metadata": {},
   "outputs": [],
   "source": [
    "# a single input layer\n",
    "inputs = Input(shape=(150,150,3))\n",
    "\n",
    "# model 1\n",
    "x1 = model_res(inputs)\n",
    "\n",
    "# model 2 \n",
    "x2 = model_in(inputs)\n",
    "\n",
    "# merging models\n",
    "x3 = concatenate([x1, x2])\n",
    "\n",
    "# output layer\n",
    "predictions = Dense(3, activation='softmax')(x3)\n",
    "\n",
    "# generate a model from the layers above\n",
    "model = Model(inputs=inputs, outputs=predictions)\n",
    "\n",
    "#Load weights \n",
    "model.load_weights(\"../output/3classes_ensemble_model.h5\")"
   ]
  },
  {
   "cell_type": "code",
   "execution_count": 28,
   "metadata": {},
   "outputs": [
    {
     "data": {
      "text/plain": [
       "(<tf.Tensor 'input_6:0' shape=(None, 150, 150, 3) dtype=float32>,\n",
       " <tf.Tensor 'dense_9/Identity:0' shape=(None, 3) dtype=float32>)"
      ]
     },
     "execution_count": 28,
     "metadata": {},
     "output_type": "execute_result"
    }
   ],
   "source": [
    "# check size\n",
    "model.input, model.output"
   ]
  },
  {
   "cell_type": "code",
   "execution_count": 29,
   "metadata": {},
   "outputs": [],
   "source": [
    "# Early Stopping\n",
    "early_stop = EarlyStopping(monitor = \"val_loss\",\n",
    "                           min_delta = 0,\n",
    "                           patience = 3)\n",
    "# Multiplies the learning rate by factor of 0.1 when the monitored metric (val_acc) plateaus \n",
    "# this will prevent overshooting -- since plateau means getting close to local minimum (lowest val loss)\n",
    "#lr_reduce = ReduceLROnPlateau(monitor='val_acc', factor=0.1, epsilon=0.0001, patience=1, verbose=1)\n",
    "\n",
    "# Compile model\n",
    "model.compile(loss = \"categorical_crossentropy\",\n",
    "              optimizer = Adam(lr = 0.0001),\n",
    "              metrics = [\"accuracy\"])"
   ]
  },
  {
   "cell_type": "code",
   "execution_count": 30,
   "metadata": {},
   "outputs": [
    {
     "data": {
      "text/plain": [
       "(150, 150)"
      ]
     },
     "execution_count": 30,
     "metadata": {},
     "output_type": "execute_result"
    }
   ],
   "source": [
    "# Input shape\n",
    "model.input_shape[1:3]"
   ]
  },
  {
   "cell_type": "code",
   "execution_count": 31,
   "metadata": {},
   "outputs": [
    {
     "name": "stdout",
     "output_type": "stream",
     "text": [
      "Found 5216 images belonging to 3 classes.\n",
      "Found 16 images belonging to 3 classes.\n",
      "Found 624 images belonging to 3 classes.\n"
     ]
    }
   ],
   "source": [
    "# Data Generator \n",
    "\n",
    "#Defining image augmentation\n",
    "train_idg = ImageDataGenerator(rescale = 1./255,\n",
    "                               zoom_range = 0.2,\n",
    "                               shear_range = 0.2,\n",
    "                               rotation_range = 20,\n",
    "                               horizontal_flip = True)\n",
    "\n",
    "test_idg = ImageDataGenerator(rescale = 1./255)\n",
    "\n",
    "#Creating data loaders\n",
    "train_gen = train_idg.flow_from_directory(train_dir,\n",
    "                                    model.input_shape[1:3],\n",
    "                                    color_mode = \"rgb\",\n",
    "                                    seed = 42,\n",
    "                                    batch_size = 16, #8,16,32\n",
    "                                    shuffle = True)\n",
    "\n",
    "val_gen =  test_idg.flow_from_directory(val_dir,\n",
    "                                    model.input_shape[1:3],\n",
    "                                    color_mode = \"rgb\",\n",
    "                                    seed = 42,\n",
    "                                    batch_size = 16, \n",
    "                                    shuffle = True)\n",
    "\n",
    "test_gen = test_idg.flow_from_directory(test_dir,\n",
    "                                    model.input_shape[1:3],\n",
    "                                    color_mode = \"rgb\",\n",
    "                                    seed = 42,\n",
    "                                    batch_size = 8,\n",
    "                                    shuffle = False)"
   ]
  },
  {
   "cell_type": "code",
   "execution_count": 32,
   "metadata": {},
   "outputs": [
    {
     "name": "stdout",
     "output_type": "stream",
     "text": [
      "Epoch 1/30\n",
      "326/326 [==============================] - 1439s 4s/step - loss: 0.4866 - accuracy: 0.8528 - val_loss: 0.8000 - val_accuracy: 0.5625\n",
      "Epoch 2/30\n",
      "326/326 [==============================] - 1435s 4s/step - loss: 0.4749 - accuracy: 0.8593 - val_loss: 0.7959 - val_accuracy: 0.5625\n",
      "Epoch 3/30\n",
      "326/326 [==============================] - 1488s 5s/step - loss: 0.4670 - accuracy: 0.8531 - val_loss: 0.7926 - val_accuracy: 0.5625\n",
      "Epoch 4/30\n",
      "326/326 [==============================] - 1377s 4s/step - loss: 0.4566 - accuracy: 0.8533 - val_loss: 0.7904 - val_accuracy: 0.5625\n",
      "Epoch 5/30\n",
      "326/326 [==============================] - 1374s 4s/step - loss: 0.4431 - accuracy: 0.8566 - val_loss: 0.7885 - val_accuracy: 0.5625\n",
      "Epoch 6/30\n",
      "326/326 [==============================] - 1378s 4s/step - loss: 0.4309 - accuracy: 0.8633 - val_loss: 0.7875 - val_accuracy: 0.5625\n",
      "Epoch 7/30\n",
      "326/326 [==============================] - 1379s 4s/step - loss: 0.4271 - accuracy: 0.8566 - val_loss: 0.7872 - val_accuracy: 0.5625\n",
      "Epoch 8/30\n",
      "326/326 [==============================] - 1379s 4s/step - loss: 0.4145 - accuracy: 0.8610 - val_loss: 0.7869 - val_accuracy: 0.5625\n",
      "Epoch 9/30\n",
      "326/326 [==============================] - 1374s 4s/step - loss: 0.4048 - accuracy: 0.8625 - val_loss: 0.7864 - val_accuracy: 0.5625\n",
      "Epoch 10/30\n",
      "326/326 [==============================] - 1375s 4s/step - loss: 0.4113 - accuracy: 0.8564 - val_loss: 0.7874 - val_accuracy: 0.5625\n",
      "Epoch 11/30\n",
      "326/326 [==============================] - 1378s 4s/step - loss: 0.4046 - accuracy: 0.8554 - val_loss: 0.7880 - val_accuracy: 0.5625\n",
      "Epoch 12/30\n",
      "326/326 [==============================] - 1374s 4s/step - loss: 0.3910 - accuracy: 0.8648 - val_loss: 0.7893 - val_accuracy: 0.5625\n"
     ]
    }
   ],
   "source": [
    "# Fit model\n",
    "hist = model.fit_generator(train_gen, \n",
    "                    validation_data = val_gen,\n",
    "                    callbacks = [early_stop],\n",
    "                    epochs = 30)"
   ]
  },
  {
   "cell_type": "code",
   "execution_count": 33,
   "metadata": {},
   "outputs": [
    {
     "name": "stdout",
     "output_type": "stream",
     "text": [
      "loss: 0.4591708301733702\n",
      "accuracy: 85.41666865348816%\n"
     ]
    }
   ],
   "source": [
    "# Evaluate model on test data.\n",
    "scores = model.evaluate_generator(test_gen)\n",
    "labels = model.metrics_names\n",
    "\n",
    "# Show model performance\n",
    "print(f'{labels[0]}: {scores[0]}')\n",
    "print(f'{labels[1]}: {scores[1]* 100}%')\n",
    "\n",
    "# Summary of the layers of the model\n",
    "#model.summary()"
   ]
  },
  {
   "cell_type": "code",
   "execution_count": 34,
   "metadata": {},
   "outputs": [],
   "source": [
    "# Predicted classes - Predicted Positives and Predicted Negatives \n",
    "predictions = model.predict(test_gen)\n",
    "pred_0 = predictions[:,0]\n",
    "pred_1 = predictions[:,1]\n",
    "pred_2 = predictions[:,2]\n",
    "predicted_classes = np.argmax(predictions,axis=1)\n",
    "\n",
    "# True classes - True Positives and True Negatives \n",
    "true_classes = test_gen.classes\n",
    "class_labels = list(test_gen.class_indices.keys()) "
   ]
  },
  {
   "cell_type": "code",
   "execution_count": 35,
   "metadata": {
    "scrolled": true
   },
   "outputs": [
    {
     "name": "stdout",
     "output_type": "stream",
     "text": [
      "              precision    recall  f1-score   support\n",
      "\n",
      "    BACTERIA       0.83      0.95      0.89       242\n",
      "      NORMAL       0.97      0.81      0.88       234\n",
      "       VIRUS       0.75      0.76      0.75       148\n",
      "\n",
      "    accuracy                           0.85       624\n",
      "   macro avg       0.85      0.84      0.84       624\n",
      "weighted avg       0.86      0.85      0.85       624\n",
      "\n"
     ]
    }
   ],
   "source": [
    "# Create Report\n",
    "report = metrics.classification_report(true_classes, \n",
    "                                       predicted_classes, \n",
    "                                       target_names = class_labels)\n",
    "print(report)  "
   ]
  },
  {
   "cell_type": "code",
   "execution_count": 36,
   "metadata": {},
   "outputs": [
    {
     "data": {
      "image/png": "[encoded data removed]",
      "text/plain": [
       "<Figure size 360x360 with 1 Axes>"
      ]
     },
     "metadata": {},
     "output_type": "display_data"
    }
   ],
   "source": [
    "# Create Confusion Matrix\n",
    "plt.style.use('seaborn')\n",
    "\n",
    "cm = metrics.confusion_matrix(true_classes,predicted_classes)\n",
    "from mlxtend.plotting import plot_confusion_matrix\n",
    "fig, ax = plot_confusion_matrix(conf_mat=cm ,  figsize=(5, 5),\n",
    "                                class_names = class_labels,\n",
    "                                show_normed = True)\n",
    "ax.set(title = \"Confusion Matrix for Pneumonia\",\n",
    "       ylabel = \"True Labels\",\n",
    "       xlabel = \"Predicted Labels\")\n",
    "plt.show()"
   ]
  },
  {
   "cell_type": "code",
   "execution_count": 37,
   "metadata": {},
   "outputs": [
    {
     "data": {
      "image/png": "[encoded data removed]",
      "text/plain": [
       "<Figure size 648x432 with 1 Axes>"
      ]
     },
     "metadata": {},
     "output_type": "display_data"
    }
   ],
   "source": [
    "# Plot\n",
    "train_loss = hist.history[\"accuracy\"]\n",
    "test_loss = hist.history[\"val_accuracy\"]\n",
    "plt.figure(figsize = (9,6))\n",
    "\n",
    "\n",
    "plt.plot(train_loss, label = \"Ensemble Training Accuracy\", color = \"navy\")\n",
    "plt.plot(test_loss, label = \"Ensemble Validation Accuracy\" , color= \"skyblue\")\n",
    "plt.title(\"Pneumonia Classification Model (3 classes)\", fontsize = 20)\n",
    "plt.xlabel(\"Epoch Count\", fontsize = 13)\n",
    "plt.ylabel(\"Accuracy\", fontsize = 13)\n",
    "plt.legend();"
   ]
  },
  {
   "cell_type": "code",
   "execution_count": 38,
   "metadata": {},
   "outputs": [],
   "source": [
    "import copy\n",
    "\n",
    "true_classes0 = copy.deepcopy(true_classes)\n",
    "true_classes0[true_classes==0]=1\n",
    "true_classes0[true_classes!=0]=0\n",
    "\n",
    "\n",
    "true_classes1 = copy.deepcopy(true_classes)\n",
    "true_classes1[true_classes==1]=1\n",
    "true_classes1[true_classes!=1]=0\n",
    "\n",
    "\n",
    "true_classes2 = copy.deepcopy(true_classes)\n",
    "true_classes2[true_classes==2]=1\n",
    "true_classes2[true_classes!=2]=0"
   ]
  },
  {
   "cell_type": "code",
   "execution_count": 39,
   "metadata": {
    "scrolled": true
   },
   "outputs": [
    {
     "data": {
      "image/png": "[encoded data removed]",
      "text/plain": [
       "<Figure size 576x396 with 1 Axes>"
      ]
     },
     "metadata": {},
     "output_type": "display_data"
    }
   ],
   "source": [
    "from sklearn.metrics import roc_curve, auc\n",
    "import matplotlib.pyplot as plt\n",
    "\n",
    "fpr0, tpr0, _ = roc_curve(true_classes0, pred_0)\n",
    "fpr1, tpr1, _ = roc_curve(true_classes1, pred_1)\n",
    "fpr2, tpr2, _ = roc_curve(true_classes2, pred_2)\n",
    "\n",
    "\n",
    "# ROC curve graph for all models\n",
    "\n",
    "import matplotlib.pyplot as plt\n",
    "plt.figure(1)\n",
    "plt.plot([0, 1], [0, 1], 'k--')\n",
    "plt.plot(fpr0, tpr0, label='Normal (AUC: %0.2f)'\n",
    "             % auc(fpr0,tpr0), color= \"purple\",  linestyle=':')\n",
    "plt.plot(fpr1, tpr1, label='Bacteria (AUC: %0.2f)'\n",
    "             % auc(fpr1,tpr1), color = \"skyblue\")\n",
    "plt.plot(fpr2, tpr2, label='Virus (AUC: %0.2f)'\n",
    "             % auc(fpr2,tpr2), color = \"yellowgreen\")\n",
    "plt.xlabel('False positive rate', fontsize = 13)\n",
    "plt.ylabel('True positive rate', fontsize = 13)\n",
    "plt.title('Ensemble: Class vs Rest', fontsize = 20)\n",
    "plt.legend(loc='best')\n",
    "plt.show()"
   ]
  },
  {
   "cell_type": "markdown",
   "metadata": {},
   "source": [
    "source: https://scikit-learn.org/stable/auto_examples/model_selection/plot_roc.html"
   ]
  },
  {
   "cell_type": "code",
   "execution_count": 40,
   "metadata": {},
   "outputs": [],
   "source": [
    "# save weights from this model model\n",
    "model.save_weights(\"../output/3classes_ensemble_step2.h5\")"
   ]
  },
  {
   "cell_type": "code",
   "execution_count": null,
   "metadata": {},
   "outputs": [],
   "source": []
  }
 ],
 "metadata": {
  "kernelspec": {
   "display_name": "Python 3",
   "language": "python",
   "name": "python3"
  },
  "language_info": {
   "codemirror_mode": {
    "name": "ipython",
    "version": 3
   },
   "file_extension": ".py",
   "mimetype": "text/x-python",
   "name": "python",
   "nbconvert_exporter": "python",
   "pygments_lexer": "ipython3",
   "version": "3.7.3"
  }
 },
 "nbformat": 4,
 "nbformat_minor": 2
}
