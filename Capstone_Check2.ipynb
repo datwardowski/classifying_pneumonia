{
 "cells": [
  {
   "cell_type": "markdown",
   "metadata": {},
   "source": [
    "# Capstone Check-in 2\n",
    "Overview:  \n",
    "-In this section you will update us on your project, including the project you have chosen, your problem statement, an extensive outline of EDA and modeling to date, the goal of your predictive model, and the data you will use to explore that model."
   ]
  },
  {
   "cell_type": "markdown",
   "metadata": {},
   "source": [
    "## Problem Statement\n",
    "#### Currently distingushing gene variations as tumor growth  vs neutral mutations is being done manually. Develop a machine learning algorithm that will use annotated notes and published papers from researchers and oncologists to automatically classify genetic variations as tumor growths or neutral mutations. \n",
    "\n",
    "\n",
    "- **Methodology**: My plan is to clean and format the data which I will import and then start doing extensive EDA and analysis. Since the genes each come with written out notes documenting the process of \n",
    "\n",
    "- **Success Metric**: My success metric will be accuracy above a baseline model or above a coin flip of identifying a gene as a cancer driving gene or not. \n",
    "\n",
    "\n",
    "- **Scope of Project**: I think I can make good progress into this project even though it is a difficult problem. Making some intitial classification models will hopefully be possible.\n",
    "\n",
    "- **Relevant** Healthcare field, healthcare professionals, insurance companies, genetic research laboratories. \n",
    "\n",
    "- **Deadline**: December 5, 2019"
   ]
  },
  {
   "cell_type": "markdown",
   "metadata": {},
   "source": [
    "## Data Source\n",
    "The biggest challenge usually for healthcare related projects is the inability to obtain patient data which is the necessary size and quality needed to train a proficient machine learning models. Most patient data is hard to obtain because of strict privacy laws which make it difficult to collect, share, and distribute this data. Since I already have the data gathered my issue is that the data I have is small in sample size. I will need to work around this problem somehow. My next challenge will be the struggle of working with textual data and trying to find patterns which can create a successful predictive model from it. \n",
    "\n",
    "- **Location**: Data has been provided by the Memorial Sloan Kettering Cancer Center (MSKCC).\n",
    "- **Format**: csv and txt files"
   ]
  },
  {
   "cell_type": "markdown",
   "metadata": {},
   "source": [
    "## EDA\n",
    "initial EDA of the data\n",
    "\n",
    "- **Describe how your EDA will inform your modeling decisions and process**: The EDA will help me see how my data is formatted and what I can accomplish from it. \n",
    "\n",
    "- **Data types**: ???\n",
    "- **Examine the distributions of your data, numerically and/or visually**: ???\n",
    "- **Outliers**: identify ???\n",
    "- **Missing data**:  identify and look for patterns of missing data ???\n"
   ]
  }
 ],
 "metadata": {
  "kernelspec": {
   "display_name": "Python 3",
   "language": "python",
   "name": "python3"
  },
  "language_info": {
   "codemirror_mode": {
    "name": "ipython",
    "version": 3
   },
   "file_extension": ".py",
   "mimetype": "text/x-python",
   "name": "python",
   "nbconvert_exporter": "python",
   "pygments_lexer": "ipython3",
   "version": "3.7.3"
  }
 },
 "nbformat": 4,
 "nbformat_minor": 2
}
