{
 "cells": [
  {
   "cell_type": "markdown",
   "metadata": {},
   "source": [
    "# Capstone Check-in 2\n",
    "Overview\n",
    "In this section you will update us on your project, including the project you have chosen, your problem statement, an extensive outline of EDA and modeling to date, the goal of your predictive model, and the data you will use to explore that model.\n",
    "\n",
    "Your data must be fully in hand by this point OR you must have a solid, achievable plan to do so that has been communicated to your local instructor."
   ]
  },
  {
   "cell_type": "markdown",
   "metadata": {},
   "source": [
    "## Problem Statement\n",
    "### **Problem Statement**:  main goal of the project ???\n",
    "\n",
    "- **Methodology**: plan and models planning on doing ???\n",
    "\n",
    "- **Metric of success**: ???\n",
    "\n",
    "- **Scope of Project**: is it too big or too narrow for the capstone ????\n",
    "\n",
    "- **Relevant** who is interested in it ???\n",
    "\n",
    "- **Deadline**: December 5, 2019"
   ]
  },
  {
   "cell_type": "markdown",
   "metadata": {},
   "source": [
    "## Data Source\n",
    "Defines the risks & assumptions of your data: ???\n",
    "- **Location**: Location/Documents your data source: ???\n",
    "- **Format**: Source and format of the data: csv and txt files "
   ]
  },
  {
   "cell_type": "markdown",
   "metadata": {},
   "source": [
    "## EDA\n",
    "initial EDA of the data\n",
    "\n",
    "- **Data types**: ???\n",
    "\n",
    "- **Examine the distributions of your data, numerically and/or visually**: ???\n",
    "- **Outliers**: identify ???\n",
    "- **Missing data**:  identify and look for patterns of missing data ???\n",
    "\n",
    "- **Describe how your EDA will inform your modeling decisions and process** ??"
   ]
  },
  {
   "cell_type": "code",
   "execution_count": null,
   "metadata": {},
   "outputs": [],
   "source": []
  }
 ],
 "metadata": {
  "kernelspec": {
   "display_name": "Python 3",
   "language": "python",
   "name": "python3"
  },
  "language_info": {
   "codemirror_mode": {
    "name": "ipython",
    "version": 3
   },
   "file_extension": ".py",
   "mimetype": "text/x-python",
   "name": "python",
   "nbconvert_exporter": "python",
   "pygments_lexer": "ipython3",
   "version": "3.7.3"
  }
 },
 "nbformat": 4,
 "nbformat_minor": 2
}
